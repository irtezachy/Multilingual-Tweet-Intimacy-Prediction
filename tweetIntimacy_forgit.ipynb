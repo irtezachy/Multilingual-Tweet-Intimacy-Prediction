{
 "cells": [
  {
   "cell_type": "markdown",
   "id": "62882632",
   "metadata": {},
   "source": [
    "# 📝 Multilingual Tweet Intimacy Analysis - SemEval 2023 Task 9"
   ]
  },
  {
   "cell_type": "markdown",
   "id": "67473a07",
   "metadata": {},
   "source": [
    "#### 📦 Environment Setup and Library Imports"
   ]
  },
  {
   "cell_type": "code",
   "execution_count": 1,
   "id": "84ee0236",
   "metadata": {},
   "outputs": [
    {
     "name": "stdout",
     "output_type": "stream",
     "text": [
      "Looking in indexes: https://pypi.org/simple, https://download.pytorch.org/whl/cu118\n",
      "Requirement already satisfied: torch in /home/aisd/miniconda3/envs/tweetintimacy/lib/python3.9/site-packages (2.7.1+cu118)\n",
      "Requirement already satisfied: torchvision in /home/aisd/miniconda3/envs/tweetintimacy/lib/python3.9/site-packages (0.22.1+cu118)\n",
      "Requirement already satisfied: torchaudio in /home/aisd/miniconda3/envs/tweetintimacy/lib/python3.9/site-packages (2.7.1+cu118)\n",
      "Requirement already satisfied: filelock in /home/aisd/miniconda3/envs/tweetintimacy/lib/python3.9/site-packages (from torch) (3.18.0)\n",
      "Requirement already satisfied: typing-extensions>=4.10.0 in /home/aisd/miniconda3/envs/tweetintimacy/lib/python3.9/site-packages (from torch) (4.14.1)\n",
      "Requirement already satisfied: sympy>=1.13.3 in /home/aisd/miniconda3/envs/tweetintimacy/lib/python3.9/site-packages (from torch) (1.14.0)\n",
      "Requirement already satisfied: networkx in /home/aisd/miniconda3/envs/tweetintimacy/lib/python3.9/site-packages (from torch) (3.2.1)\n",
      "Requirement already satisfied: jinja2 in /home/aisd/miniconda3/envs/tweetintimacy/lib/python3.9/site-packages (from torch) (3.1.6)\n",
      "Requirement already satisfied: fsspec in /home/aisd/miniconda3/envs/tweetintimacy/lib/python3.9/site-packages (from torch) (2025.3.0)\n",
      "Requirement already satisfied: nvidia-cuda-nvrtc-cu11==11.8.89 in /home/aisd/miniconda3/envs/tweetintimacy/lib/python3.9/site-packages (from torch) (11.8.89)\n",
      "Requirement already satisfied: nvidia-cuda-runtime-cu11==11.8.89 in /home/aisd/miniconda3/envs/tweetintimacy/lib/python3.9/site-packages (from torch) (11.8.89)\n",
      "Requirement already satisfied: nvidia-cuda-cupti-cu11==11.8.87 in /home/aisd/miniconda3/envs/tweetintimacy/lib/python3.9/site-packages (from torch) (11.8.87)\n",
      "Requirement already satisfied: nvidia-cudnn-cu11==9.1.0.70 in /home/aisd/miniconda3/envs/tweetintimacy/lib/python3.9/site-packages (from torch) (9.1.0.70)\n",
      "Requirement already satisfied: nvidia-cublas-cu11==11.11.3.6 in /home/aisd/miniconda3/envs/tweetintimacy/lib/python3.9/site-packages (from torch) (11.11.3.6)\n",
      "Requirement already satisfied: nvidia-cufft-cu11==10.9.0.58 in /home/aisd/miniconda3/envs/tweetintimacy/lib/python3.9/site-packages (from torch) (10.9.0.58)\n",
      "Requirement already satisfied: nvidia-curand-cu11==10.3.0.86 in /home/aisd/miniconda3/envs/tweetintimacy/lib/python3.9/site-packages (from torch) (10.3.0.86)\n",
      "Requirement already satisfied: nvidia-cusolver-cu11==11.4.1.48 in /home/aisd/miniconda3/envs/tweetintimacy/lib/python3.9/site-packages (from torch) (11.4.1.48)\n",
      "Requirement already satisfied: nvidia-cusparse-cu11==11.7.5.86 in /home/aisd/miniconda3/envs/tweetintimacy/lib/python3.9/site-packages (from torch) (11.7.5.86)\n",
      "Requirement already satisfied: nvidia-nccl-cu11==2.21.5 in /home/aisd/miniconda3/envs/tweetintimacy/lib/python3.9/site-packages (from torch) (2.21.5)\n",
      "Requirement already satisfied: nvidia-nvtx-cu11==11.8.86 in /home/aisd/miniconda3/envs/tweetintimacy/lib/python3.9/site-packages (from torch) (11.8.86)\n",
      "Requirement already satisfied: triton==3.3.1 in /home/aisd/miniconda3/envs/tweetintimacy/lib/python3.9/site-packages (from torch) (3.3.1)\n",
      "Requirement already satisfied: setuptools>=40.8.0 in /home/aisd/miniconda3/envs/tweetintimacy/lib/python3.9/site-packages (from triton==3.3.1->torch) (78.1.1)\n",
      "Requirement already satisfied: numpy in /home/aisd/miniconda3/envs/tweetintimacy/lib/python3.9/site-packages (from torchvision) (1.26.4)\n",
      "Requirement already satisfied: pillow!=8.3.*,>=5.3.0 in /home/aisd/miniconda3/envs/tweetintimacy/lib/python3.9/site-packages (from torchvision) (11.3.0)\n",
      "Requirement already satisfied: mpmath<1.4,>=1.1.0 in /home/aisd/miniconda3/envs/tweetintimacy/lib/python3.9/site-packages (from sympy>=1.13.3->torch) (1.3.0)\n",
      "Requirement already satisfied: MarkupSafe>=2.0 in /home/aisd/miniconda3/envs/tweetintimacy/lib/python3.9/site-packages (from jinja2->torch) (3.0.2)\n",
      "/bin/bash: -c: line 2: syntax error: unexpected end of file\n"
     ]
    }
   ],
   "source": [
    "\n",
    "# Install PyTorch (CUDA 11.8, compatible with CUDA 12.2 on RTX 4070)\n",
    "!pip install torch torchvision torchaudio --extra-index-url https://download.pytorch.org/whl/cu118\n",
    "\n",
    "# Install Hugging Face and other required libraries\n",
    "!pip install transformers datasets evaluate pandas scikit-learn matplotlib tqdm|"
   ]
  },
  {
   "cell_type": "markdown",
   "id": "4adbd643",
   "metadata": {},
   "source": [
    "This cell installs the required libraries for PyTorch (with CUDA support), Hugging Face Transformers, Datasets, Evaluate, Pandas, scikit-learn, Matplotlib, and tqdm. These are essential for model training, evaluation, and data processing."
   ]
  },
  {
   "cell_type": "code",
   "execution_count": 2,
   "id": "84a72cdb",
   "metadata": {},
   "outputs": [
    {
     "name": "stderr",
     "output_type": "stream",
     "text": [
      "/home/aisd/miniconda3/envs/tweetintimacy/lib/python3.9/site-packages/tqdm/auto.py:21: TqdmWarning: IProgress not found. Please update jupyter and ipywidgets. See https://ipywidgets.readthedocs.io/en/stable/user_install.html\n",
      "  from .autonotebook import tqdm as notebook_tqdm\n"
     ]
    }
   ],
   "source": [
    "import os\n",
    "import pandas as pd\n",
    "import numpy as np\n",
    "import evaluate\n",
    "import matplotlib.pyplot as plt\n",
    "from tqdm import tqdm\n",
    "\n",
    "from datasets import Dataset\n",
    "from transformers import (\n",
    "    AutoTokenizer, \n",
    "    AutoModelForSequenceClassification, \n",
    "    TrainingArguments, \n",
    "    Trainer\n",
    ")"
   ]
  },
  {
   "cell_type": "markdown",
   "id": "2291fa84",
   "metadata": {},
   "source": [
    "This cell imports all the necessary Python libraries and modules for data manipulation, visualization, evaluation, and model training using Hugging Face Transformers and Datasets."
   ]
  },
  {
   "cell_type": "markdown",
   "id": "042b58ee",
   "metadata": {},
   "source": [
    "### Download Dataset"
   ]
  },
  {
   "cell_type": "code",
   "execution_count": 3,
   "id": "96868b33",
   "metadata": {},
   "outputs": [],
   "source": [
    "# Create data directory\n",
    "!mkdir -p data"
   ]
  },
  {
   "cell_type": "markdown",
   "id": "a0cbd39f",
   "metadata": {},
   "source": [
    "This cell creates a directory named 'data' if it does not already exist. This directory will be used to store the training and test datasets."
   ]
  },
  {
   "cell_type": "code",
   "execution_count": 4,
   "id": "e269149c",
   "metadata": {},
   "outputs": [],
   "source": [
    "# Download train and test CSVs with original filenames from source\n",
    "#!wget -P data/ \"https://codalab.lisn.upsaclay.fr/my/datasets/download/a5556004-d13b-4e3d-bc00-e470a954ffbb\"\n",
    "#!wget -P data/ \"https://codalab.lisn.upsaclay.fr/my/datasets/download/fbe23c02-0407-4d0b-999b-adbf45ca536e\""
   ]
  },
  {
   "cell_type": "markdown",
   "id": "d651ae1d",
   "metadata": {},
   "source": [
    "This cell contains (commented) commands to download the training and test CSV files from the official SemEval 2023 Task 9 dataset source. Uncomment and run if you need to fetch the data."
   ]
  },
  {
   "cell_type": "markdown",
   "id": "f794029f",
   "metadata": {},
   "source": [
    "## Load and Explore Dataset"
   ]
  },
  {
   "cell_type": "code",
   "execution_count": 60,
   "id": "b7320392",
   "metadata": {},
   "outputs": [
    {
     "name": "stdout",
     "output_type": "stream",
     "text": [
      "Train Shape: (9491, 3)\n",
      "Test Shape: (13697, 2)\n"
     ]
    },
    {
     "data": {
      "text/html": [
       "<div>\n",
       "<style scoped>\n",
       "    .dataframe tbody tr th:only-of-type {\n",
       "        vertical-align: middle;\n",
       "    }\n",
       "\n",
       "    .dataframe tbody tr th {\n",
       "        vertical-align: top;\n",
       "    }\n",
       "\n",
       "    .dataframe thead th {\n",
       "        text-align: right;\n",
       "    }\n",
       "</style>\n",
       "<table border=\"1\" class=\"dataframe\">\n",
       "  <thead>\n",
       "    <tr style=\"text-align: right;\">\n",
       "      <th></th>\n",
       "      <th>text</th>\n",
       "      <th>label</th>\n",
       "      <th>language</th>\n",
       "    </tr>\n",
       "  </thead>\n",
       "  <tbody>\n",
       "    <tr>\n",
       "      <th>0</th>\n",
       "      <td>wearing a fake engagement ring so guys won’t a...</td>\n",
       "      <td>1.8</td>\n",
       "      <td>English</td>\n",
       "    </tr>\n",
       "    <tr>\n",
       "      <th>1</th>\n",
       "      <td>Bees vs. Wasps. http</td>\n",
       "      <td>1.0</td>\n",
       "      <td>English</td>\n",
       "    </tr>\n",
       "    <tr>\n",
       "      <th>2</th>\n",
       "      <td>Here is a nice equation: 0+0-0-0+0=0</td>\n",
       "      <td>1.0</td>\n",
       "      <td>English</td>\n",
       "    </tr>\n",
       "    <tr>\n",
       "      <th>3</th>\n",
       "      <td>@user @user Enjoy each new day!😊🇨🇦🐞🐭</td>\n",
       "      <td>1.6</td>\n",
       "      <td>English</td>\n",
       "    </tr>\n",
       "    <tr>\n",
       "      <th>4</th>\n",
       "      <td>I can be having a perfectly good day then I th...</td>\n",
       "      <td>1.6</td>\n",
       "      <td>English</td>\n",
       "    </tr>\n",
       "  </tbody>\n",
       "</table>\n",
       "</div>"
      ],
      "text/plain": [
       "                                                text  label language\n",
       "0  wearing a fake engagement ring so guys won’t a...    1.8  English\n",
       "1                               Bees vs. Wasps. http    1.0  English\n",
       "2               Here is a nice equation: 0+0-0-0+0=0    1.0  English\n",
       "3               @user @user Enjoy each new day!😊🇨🇦🐞🐭    1.6  English\n",
       "4  I can be having a perfectly good day then I th...    1.6  English"
      ]
     },
     "execution_count": 60,
     "metadata": {},
     "output_type": "execute_result"
    }
   ],
   "source": [
    "train_df = pd.read_csv(\"data/train.csv\")\n",
    "test_df = pd.read_csv(\"data/semeval_test.csv\")\n",
    "\n",
    "print(\"Train Shape:\", train_df.shape)\n",
    "print(\"Test Shape:\", test_df.shape)\n",
    "train_df.head()"
   ]
  },
  {
   "cell_type": "markdown",
   "id": "5352bda5",
   "metadata": {},
   "source": [
    "This cell loads the training and test datasets from CSV files into pandas DataFrames and displays their shapes and the first few rows of the training set."
   ]
  },
  {
   "cell_type": "code",
   "execution_count": 59,
   "id": "a75b4f6f",
   "metadata": {},
   "outputs": [
    {
     "name": "stdout",
     "output_type": "stream",
     "text": [
      "Train Columns: Index(['text', 'label', 'language'], dtype='object')\n",
      "Test Columns: Index(['text', 'language'], dtype='object')\n",
      "Train Intimacy Distribution:\n",
      " label\n",
      "1.000000    1346\n",
      "2.000000     818\n",
      "1.400000     574\n",
      "1.600000     557\n",
      "1.200000     556\n",
      "1.800000     516\n",
      "2.200000     470\n",
      "3.000000     462\n",
      "2.400000     395\n",
      "2.600000     373\n",
      "2.800000     332\n",
      "1.250000     324\n",
      "1.500000     313\n",
      "1.750000     260\n",
      "3.200000     248\n",
      "2.250000     202\n",
      "3.400000     190\n",
      "3.600000     168\n",
      "2.500000     154\n",
      "2.750000     145\n",
      "3.800000     138\n",
      "4.000000     130\n",
      "3.250000     101\n",
      "1.333333      98\n",
      "1.666667      86\n",
      "4.200000      84\n",
      "3.500000      82\n",
      "4.400000      57\n",
      "3.750000      52\n",
      "2.333333      45\n",
      "2.666667      36\n",
      "4.600000      32\n",
      "4.250000      28\n",
      "3.333333      25\n",
      "4.800000      24\n",
      "5.000000      22\n",
      "4.500000      16\n",
      "4.750000      13\n",
      "3.666667       9\n",
      "4.333333       5\n",
      "4.666667       5\n",
      "Name: count, dtype: int64\n",
      "Test Language Distribution:\n",
      " language\n",
      "Korean        1410\n",
      "English       1396\n",
      "Spanish       1396\n",
      "Portuguese    1390\n",
      "Dutch         1389\n",
      "French        1382\n",
      "Arabic        1368\n",
      "Chinese       1354\n",
      "Italian       1352\n",
      "Hindi         1260\n",
      "Name: count, dtype: int64\n"
     ]
    },
    {
     "data": {
      "image/png": "[encoded data removed]",
      "text/plain": [
       "<Figure size 800x500 with 1 Axes>"
      ]
     },
     "metadata": {},
     "output_type": "display_data"
    }
   ],
   "source": [
    "# Check the columns in the train and test dataframes and visualize the distribution of data\n",
    "print(\"Train Columns:\", train_df.columns)\n",
    "print(\"Test Columns:\", test_df.columns)\n",
    "print(\"Train Intimacy Distribution:\\n\", train_df['label'].value_counts())\n",
    "# The test set does not have 'label', so we can show language distribution instead\n",
    "print(\"Test Language Distribution:\\n\", test_df['language'].value_counts())\n",
    "\n",
    "# Visualize the distribution of intimacy labels in the training set\n",
    "plt.figure(figsize=(8, 5))\n",
    "train_df['label'].value_counts().sort_index().plot(kind='bar', color='skyblue')\n",
    "plt.title('Intimacy Label Distribution in Training Set')\n",
    "plt.xlabel('Intimacy Label')\n",
    "plt.ylabel('Count')\n",
    "plt.show()"
   ]
  },
  {
   "cell_type": "markdown",
   "id": "171eb424",
   "metadata": {},
   "source": [
    "This cell explores the columns in the training and test datasets, prints label and language distributions, and visualizes the distribution of intimacy labels in the training set using a bar plot."
   ]
  },
  {
   "cell_type": "markdown",
   "id": "6e228047",
   "metadata": {},
   "source": [
    "# Login to Hugging Face to access gated models"
   ]
  },
  {
   "cell_type": "code",
   "execution_count": null,
   "id": "c220ace4",
   "metadata": {},
   "outputs": [],
   "source": [
    "from huggingface_hub import login\n",
    "login(token=\"YOUR_HUGGING_FACE_TOKEN\")  # Replace with your Hugging Face token"
   ]
  },
  {
   "cell_type": "markdown",
   "id": "522285f5",
   "metadata": {},
   "source": [
    "This cell logs in to the Hugging Face Hub using your access token. This is required to access gated models and datasets from the Hugging Face Model Hub."
   ]
  },
  {
   "cell_type": "markdown",
   "id": "e40620d4",
   "metadata": {},
   "source": [
    "# Preprocess Text and Tokenize"
   ]
  },
  {
   "cell_type": "code",
   "execution_count": 57,
   "id": "fbaadb39",
   "metadata": {},
   "outputs": [
    {
     "name": "stderr",
     "output_type": "stream",
     "text": [
      "Map: 100%|██████████| 9491/9491 [00:01<00:00, 7013.06 examples/s]\n"
     ]
    }
   ],
   "source": [
    "model_ckpt = \"xlm-roberta-large\"\n",
    "tokenizer = AutoTokenizer.from_pretrained(model_ckpt)\n",
    "\n",
    "# Convert pandas to Hugging Face dataset\n",
    "dataset = Dataset.from_pandas(train_df)\n",
    "\n",
    "# Tokenization function\n",
    "def tokenize(batch):\n",
    "    return tokenizer(batch[\"text\"], padding=\"max_length\", truncation=True, max_length=128)\n",
    "\n",
    "encoded_dataset = dataset.map(tokenize, batched=True)"
   ]
  },
  {
   "cell_type": "markdown",
   "id": "dd212fc7",
   "metadata": {},
   "source": [
    "This cell sets up the model checkpoint, loads the tokenizer, converts the training DataFrame to a Hugging Face Dataset, and tokenizes the text data for model input."
   ]
  },
  {
   "cell_type": "code",
   "execution_count": 56,
   "id": "2b4bdff8",
   "metadata": {},
   "outputs": [
    {
     "name": "stdout",
     "output_type": "stream",
     "text": [
      "Requirement already satisfied: transformers in /home/aisd/miniconda3/envs/tweetintimacy/lib/python3.9/site-packages (4.54.1)\n",
      "Requirement already satisfied: filelock in /home/aisd/miniconda3/envs/tweetintimacy/lib/python3.9/site-packages (from transformers) (3.18.0)\n",
      "Requirement already satisfied: huggingface-hub<1.0,>=0.34.0 in /home/aisd/miniconda3/envs/tweetintimacy/lib/python3.9/site-packages (from transformers) (0.34.3)\n",
      "Requirement already satisfied: numpy>=1.17 in /home/aisd/miniconda3/envs/tweetintimacy/lib/python3.9/site-packages (from transformers) (1.26.4)\n",
      "Requirement already satisfied: packaging>=20.0 in /home/aisd/miniconda3/envs/tweetintimacy/lib/python3.9/site-packages (from transformers) (25.0)\n",
      "Requirement already satisfied: pyyaml>=5.1 in /home/aisd/miniconda3/envs/tweetintimacy/lib/python3.9/site-packages (from transformers) (6.0.2)\n",
      "Requirement already satisfied: regex!=2019.12.17 in /home/aisd/miniconda3/envs/tweetintimacy/lib/python3.9/site-packages (from transformers) (2025.7.34)\n",
      "Requirement already satisfied: requests in /home/aisd/miniconda3/envs/tweetintimacy/lib/python3.9/site-packages (from transformers) (2.32.4)\n",
      "Requirement already satisfied: tokenizers<0.22,>=0.21 in /home/aisd/miniconda3/envs/tweetintimacy/lib/python3.9/site-packages (from transformers) (0.21.4)\n",
      "Requirement already satisfied: safetensors>=0.4.3 in /home/aisd/miniconda3/envs/tweetintimacy/lib/python3.9/site-packages (from transformers) (0.5.3)\n",
      "Requirement already satisfied: tqdm>=4.27 in /home/aisd/miniconda3/envs/tweetintimacy/lib/python3.9/site-packages (from transformers) (4.67.1)\n",
      "Requirement already satisfied: fsspec>=2023.5.0 in /home/aisd/miniconda3/envs/tweetintimacy/lib/python3.9/site-packages (from huggingface-hub<1.0,>=0.34.0->transformers) (2025.3.0)\n",
      "Requirement already satisfied: typing-extensions>=3.7.4.3 in /home/aisd/miniconda3/envs/tweetintimacy/lib/python3.9/site-packages (from huggingface-hub<1.0,>=0.34.0->transformers) (4.14.1)\n",
      "Requirement already satisfied: hf-xet<2.0.0,>=1.1.3 in /home/aisd/miniconda3/envs/tweetintimacy/lib/python3.9/site-packages (from huggingface-hub<1.0,>=0.34.0->transformers) (1.1.5)\n",
      "Requirement already satisfied: charset_normalizer<4,>=2 in /home/aisd/miniconda3/envs/tweetintimacy/lib/python3.9/site-packages (from requests->transformers) (3.4.2)\n",
      "Requirement already satisfied: idna<4,>=2.5 in /home/aisd/miniconda3/envs/tweetintimacy/lib/python3.9/site-packages (from requests->transformers) (3.10)\n",
      "Requirement already satisfied: urllib3<3,>=1.21.1 in /home/aisd/miniconda3/envs/tweetintimacy/lib/python3.9/site-packages (from requests->transformers) (2.5.0)\n",
      "Requirement already satisfied: certifi>=2017.4.17 in /home/aisd/miniconda3/envs/tweetintimacy/lib/python3.9/site-packages (from requests->transformers) (2025.7.14)\n"
     ]
    }
   ],
   "source": [
    "!pip install --upgrade transformers"
   ]
  },
  {
   "cell_type": "markdown",
   "id": "efbb59c2",
   "metadata": {},
   "source": [
    "This cell upgrades the Hugging Face Transformers library to the latest version to ensure compatibility and access to the newest features and bug fixes."
   ]
  },
  {
   "cell_type": "code",
   "execution_count": 55,
   "id": "37f75255",
   "metadata": {},
   "outputs": [
    {
     "name": "stdout",
     "output_type": "stream",
     "text": [
      "Requirement already satisfied: transformers in /home/aisd/miniconda3/envs/tweetintimacy/lib/python3.9/site-packages (4.54.1)\n",
      "Requirement already satisfied: accelerate in /home/aisd/miniconda3/envs/tweetintimacy/lib/python3.9/site-packages (1.9.0)\n",
      "Requirement already satisfied: evaluate in /home/aisd/miniconda3/envs/tweetintimacy/lib/python3.9/site-packages (0.4.5)\n",
      "Requirement already satisfied: filelock in /home/aisd/miniconda3/envs/tweetintimacy/lib/python3.9/site-packages (from transformers) (3.18.0)\n",
      "Requirement already satisfied: huggingface-hub<1.0,>=0.34.0 in /home/aisd/miniconda3/envs/tweetintimacy/lib/python3.9/site-packages (from transformers) (0.34.3)\n",
      "Requirement already satisfied: numpy>=1.17 in /home/aisd/miniconda3/envs/tweetintimacy/lib/python3.9/site-packages (from transformers) (1.26.4)\n",
      "Requirement already satisfied: packaging>=20.0 in /home/aisd/miniconda3/envs/tweetintimacy/lib/python3.9/site-packages (from transformers) (25.0)\n",
      "Requirement already satisfied: pyyaml>=5.1 in /home/aisd/miniconda3/envs/tweetintimacy/lib/python3.9/site-packages (from transformers) (6.0.2)\n",
      "Requirement already satisfied: regex!=2019.12.17 in /home/aisd/miniconda3/envs/tweetintimacy/lib/python3.9/site-packages (from transformers) (2025.7.34)\n",
      "Requirement already satisfied: requests in /home/aisd/miniconda3/envs/tweetintimacy/lib/python3.9/site-packages (from transformers) (2.32.4)\n",
      "Requirement already satisfied: tokenizers<0.22,>=0.21 in /home/aisd/miniconda3/envs/tweetintimacy/lib/python3.9/site-packages (from transformers) (0.21.4)\n",
      "Requirement already satisfied: safetensors>=0.4.3 in /home/aisd/miniconda3/envs/tweetintimacy/lib/python3.9/site-packages (from transformers) (0.5.3)\n",
      "Requirement already satisfied: tqdm>=4.27 in /home/aisd/miniconda3/envs/tweetintimacy/lib/python3.9/site-packages (from transformers) (4.67.1)\n",
      "Requirement already satisfied: fsspec>=2023.5.0 in /home/aisd/miniconda3/envs/tweetintimacy/lib/python3.9/site-packages (from huggingface-hub<1.0,>=0.34.0->transformers) (2025.3.0)\n",
      "Requirement already satisfied: typing-extensions>=3.7.4.3 in /home/aisd/miniconda3/envs/tweetintimacy/lib/python3.9/site-packages (from huggingface-hub<1.0,>=0.34.0->transformers) (4.14.1)\n",
      "Requirement already satisfied: hf-xet<2.0.0,>=1.1.3 in /home/aisd/miniconda3/envs/tweetintimacy/lib/python3.9/site-packages (from huggingface-hub<1.0,>=0.34.0->transformers) (1.1.5)\n",
      "Requirement already satisfied: psutil in /home/aisd/miniconda3/envs/tweetintimacy/lib/python3.9/site-packages (from accelerate) (7.0.0)\n",
      "Requirement already satisfied: torch>=2.0.0 in /home/aisd/miniconda3/envs/tweetintimacy/lib/python3.9/site-packages (from accelerate) (2.7.1+cu118)\n",
      "Requirement already satisfied: datasets>=2.0.0 in /home/aisd/miniconda3/envs/tweetintimacy/lib/python3.9/site-packages (from evaluate) (4.0.0)\n",
      "Requirement already satisfied: dill in /home/aisd/miniconda3/envs/tweetintimacy/lib/python3.9/site-packages (from evaluate) (0.3.8)\n",
      "Requirement already satisfied: pandas in /home/aisd/miniconda3/envs/tweetintimacy/lib/python3.9/site-packages (from evaluate) (2.3.1)\n",
      "Requirement already satisfied: xxhash in /home/aisd/miniconda3/envs/tweetintimacy/lib/python3.9/site-packages (from evaluate) (3.5.0)\n",
      "Requirement already satisfied: multiprocess in /home/aisd/miniconda3/envs/tweetintimacy/lib/python3.9/site-packages (from evaluate) (0.70.16)\n",
      "Requirement already satisfied: pyarrow>=15.0.0 in /home/aisd/miniconda3/envs/tweetintimacy/lib/python3.9/site-packages (from datasets>=2.0.0->evaluate) (21.0.0)\n",
      "Requirement already satisfied: aiohttp!=4.0.0a0,!=4.0.0a1 in /home/aisd/miniconda3/envs/tweetintimacy/lib/python3.9/site-packages (from fsspec[http]>=2021.05.0->evaluate) (3.12.15)\n",
      "Requirement already satisfied: aiohappyeyeballs>=2.5.0 in /home/aisd/miniconda3/envs/tweetintimacy/lib/python3.9/site-packages (from aiohttp!=4.0.0a0,!=4.0.0a1->fsspec[http]>=2021.05.0->evaluate) (2.6.1)\n",
      "Requirement already satisfied: aiosignal>=1.4.0 in /home/aisd/miniconda3/envs/tweetintimacy/lib/python3.9/site-packages (from aiohttp!=4.0.0a0,!=4.0.0a1->fsspec[http]>=2021.05.0->evaluate) (1.4.0)\n",
      "Requirement already satisfied: async-timeout<6.0,>=4.0 in /home/aisd/miniconda3/envs/tweetintimacy/lib/python3.9/site-packages (from aiohttp!=4.0.0a0,!=4.0.0a1->fsspec[http]>=2021.05.0->evaluate) (5.0.1)\n",
      "Requirement already satisfied: attrs>=17.3.0 in /home/aisd/miniconda3/envs/tweetintimacy/lib/python3.9/site-packages (from aiohttp!=4.0.0a0,!=4.0.0a1->fsspec[http]>=2021.05.0->evaluate) (25.3.0)\n",
      "Requirement already satisfied: frozenlist>=1.1.1 in /home/aisd/miniconda3/envs/tweetintimacy/lib/python3.9/site-packages (from aiohttp!=4.0.0a0,!=4.0.0a1->fsspec[http]>=2021.05.0->evaluate) (1.7.0)\n",
      "Requirement already satisfied: multidict<7.0,>=4.5 in /home/aisd/miniconda3/envs/tweetintimacy/lib/python3.9/site-packages (from aiohttp!=4.0.0a0,!=4.0.0a1->fsspec[http]>=2021.05.0->evaluate) (6.6.3)\n",
      "Requirement already satisfied: propcache>=0.2.0 in /home/aisd/miniconda3/envs/tweetintimacy/lib/python3.9/site-packages (from aiohttp!=4.0.0a0,!=4.0.0a1->fsspec[http]>=2021.05.0->evaluate) (0.3.2)\n",
      "Requirement already satisfied: yarl<2.0,>=1.17.0 in /home/aisd/miniconda3/envs/tweetintimacy/lib/python3.9/site-packages (from aiohttp!=4.0.0a0,!=4.0.0a1->fsspec[http]>=2021.05.0->evaluate) (1.20.1)\n",
      "Requirement already satisfied: idna>=2.0 in /home/aisd/miniconda3/envs/tweetintimacy/lib/python3.9/site-packages (from yarl<2.0,>=1.17.0->aiohttp!=4.0.0a0,!=4.0.0a1->fsspec[http]>=2021.05.0->evaluate) (3.10)\n",
      "Requirement already satisfied: charset_normalizer<4,>=2 in /home/aisd/miniconda3/envs/tweetintimacy/lib/python3.9/site-packages (from requests->transformers) (3.4.2)\n",
      "Requirement already satisfied: urllib3<3,>=1.21.1 in /home/aisd/miniconda3/envs/tweetintimacy/lib/python3.9/site-packages (from requests->transformers) (2.5.0)\n",
      "Requirement already satisfied: certifi>=2017.4.17 in /home/aisd/miniconda3/envs/tweetintimacy/lib/python3.9/site-packages (from requests->transformers) (2025.7.14)\n",
      "Requirement already satisfied: sympy>=1.13.3 in /home/aisd/miniconda3/envs/tweetintimacy/lib/python3.9/site-packages (from torch>=2.0.0->accelerate) (1.14.0)\n",
      "Requirement already satisfied: networkx in /home/aisd/miniconda3/envs/tweetintimacy/lib/python3.9/site-packages (from torch>=2.0.0->accelerate) (3.2.1)\n",
      "Requirement already satisfied: jinja2 in /home/aisd/miniconda3/envs/tweetintimacy/lib/python3.9/site-packages (from torch>=2.0.0->accelerate) (3.1.6)\n",
      "Requirement already satisfied: nvidia-cuda-nvrtc-cu11==11.8.89 in /home/aisd/miniconda3/envs/tweetintimacy/lib/python3.9/site-packages (from torch>=2.0.0->accelerate) (11.8.89)\n",
      "Requirement already satisfied: nvidia-cuda-runtime-cu11==11.8.89 in /home/aisd/miniconda3/envs/tweetintimacy/lib/python3.9/site-packages (from torch>=2.0.0->accelerate) (11.8.89)\n",
      "Requirement already satisfied: nvidia-cuda-cupti-cu11==11.8.87 in /home/aisd/miniconda3/envs/tweetintimacy/lib/python3.9/site-packages (from torch>=2.0.0->accelerate) (11.8.87)\n",
      "Requirement already satisfied: nvidia-cudnn-cu11==9.1.0.70 in /home/aisd/miniconda3/envs/tweetintimacy/lib/python3.9/site-packages (from torch>=2.0.0->accelerate) (9.1.0.70)\n",
      "Requirement already satisfied: nvidia-cublas-cu11==11.11.3.6 in /home/aisd/miniconda3/envs/tweetintimacy/lib/python3.9/site-packages (from torch>=2.0.0->accelerate) (11.11.3.6)\n",
      "Requirement already satisfied: nvidia-cufft-cu11==10.9.0.58 in /home/aisd/miniconda3/envs/tweetintimacy/lib/python3.9/site-packages (from torch>=2.0.0->accelerate) (10.9.0.58)\n",
      "Requirement already satisfied: nvidia-curand-cu11==10.3.0.86 in /home/aisd/miniconda3/envs/tweetintimacy/lib/python3.9/site-packages (from torch>=2.0.0->accelerate) (10.3.0.86)\n",
      "Requirement already satisfied: nvidia-cusolver-cu11==11.4.1.48 in /home/aisd/miniconda3/envs/tweetintimacy/lib/python3.9/site-packages (from torch>=2.0.0->accelerate) (11.4.1.48)\n",
      "Requirement already satisfied: nvidia-cusparse-cu11==11.7.5.86 in /home/aisd/miniconda3/envs/tweetintimacy/lib/python3.9/site-packages (from torch>=2.0.0->accelerate) (11.7.5.86)\n",
      "Requirement already satisfied: nvidia-nccl-cu11==2.21.5 in /home/aisd/miniconda3/envs/tweetintimacy/lib/python3.9/site-packages (from torch>=2.0.0->accelerate) (2.21.5)\n",
      "Requirement already satisfied: nvidia-nvtx-cu11==11.8.86 in /home/aisd/miniconda3/envs/tweetintimacy/lib/python3.9/site-packages (from torch>=2.0.0->accelerate) (11.8.86)\n",
      "Requirement already satisfied: triton==3.3.1 in /home/aisd/miniconda3/envs/tweetintimacy/lib/python3.9/site-packages (from torch>=2.0.0->accelerate) (3.3.1)\n",
      "Requirement already satisfied: setuptools>=40.8.0 in /home/aisd/miniconda3/envs/tweetintimacy/lib/python3.9/site-packages (from triton==3.3.1->torch>=2.0.0->accelerate) (78.1.1)\n",
      "Requirement already satisfied: mpmath<1.4,>=1.1.0 in /home/aisd/miniconda3/envs/tweetintimacy/lib/python3.9/site-packages (from sympy>=1.13.3->torch>=2.0.0->accelerate) (1.3.0)\n",
      "Requirement already satisfied: MarkupSafe>=2.0 in /home/aisd/miniconda3/envs/tweetintimacy/lib/python3.9/site-packages (from jinja2->torch>=2.0.0->accelerate) (3.0.2)\n",
      "Requirement already satisfied: python-dateutil>=2.8.2 in /home/aisd/miniconda3/envs/tweetintimacy/lib/python3.9/site-packages (from pandas->evaluate) (2.9.0.post0)\n",
      "Requirement already satisfied: pytz>=2020.1 in /home/aisd/miniconda3/envs/tweetintimacy/lib/python3.9/site-packages (from pandas->evaluate) (2025.2)\n",
      "Requirement already satisfied: tzdata>=2022.7 in /home/aisd/miniconda3/envs/tweetintimacy/lib/python3.9/site-packages (from pandas->evaluate) (2025.2)\n",
      "Requirement already satisfied: six>=1.5 in /home/aisd/miniconda3/envs/tweetintimacy/lib/python3.9/site-packages (from python-dateutil>=2.8.2->pandas->evaluate) (1.17.0)\n",
      "Requirement already satisfied: transformers[torch] in /home/aisd/miniconda3/envs/tweetintimacy/lib/python3.9/site-packages (4.54.1)\n",
      "Requirement already satisfied: filelock in /home/aisd/miniconda3/envs/tweetintimacy/lib/python3.9/site-packages (from transformers[torch]) (3.18.0)\n",
      "Requirement already satisfied: huggingface-hub<1.0,>=0.34.0 in /home/aisd/miniconda3/envs/tweetintimacy/lib/python3.9/site-packages (from transformers[torch]) (0.34.3)\n",
      "Requirement already satisfied: numpy>=1.17 in /home/aisd/miniconda3/envs/tweetintimacy/lib/python3.9/site-packages (from transformers[torch]) (1.26.4)\n",
      "Requirement already satisfied: packaging>=20.0 in /home/aisd/miniconda3/envs/tweetintimacy/lib/python3.9/site-packages (from transformers[torch]) (25.0)\n",
      "Requirement already satisfied: pyyaml>=5.1 in /home/aisd/miniconda3/envs/tweetintimacy/lib/python3.9/site-packages (from transformers[torch]) (6.0.2)\n",
      "Requirement already satisfied: regex!=2019.12.17 in /home/aisd/miniconda3/envs/tweetintimacy/lib/python3.9/site-packages (from transformers[torch]) (2025.7.34)\n",
      "Requirement already satisfied: requests in /home/aisd/miniconda3/envs/tweetintimacy/lib/python3.9/site-packages (from transformers[torch]) (2.32.4)\n",
      "Requirement already satisfied: tokenizers<0.22,>=0.21 in /home/aisd/miniconda3/envs/tweetintimacy/lib/python3.9/site-packages (from transformers[torch]) (0.21.4)\n",
      "Requirement already satisfied: safetensors>=0.4.3 in /home/aisd/miniconda3/envs/tweetintimacy/lib/python3.9/site-packages (from transformers[torch]) (0.5.3)\n",
      "Requirement already satisfied: tqdm>=4.27 in /home/aisd/miniconda3/envs/tweetintimacy/lib/python3.9/site-packages (from transformers[torch]) (4.67.1)\n",
      "Requirement already satisfied: torch>=2.1 in /home/aisd/miniconda3/envs/tweetintimacy/lib/python3.9/site-packages (from transformers[torch]) (2.7.1+cu118)\n",
      "Requirement already satisfied: accelerate>=0.26.0 in /home/aisd/miniconda3/envs/tweetintimacy/lib/python3.9/site-packages (from transformers[torch]) (1.9.0)\n",
      "Requirement already satisfied: fsspec>=2023.5.0 in /home/aisd/miniconda3/envs/tweetintimacy/lib/python3.9/site-packages (from huggingface-hub<1.0,>=0.34.0->transformers[torch]) (2025.3.0)\n",
      "Requirement already satisfied: typing-extensions>=3.7.4.3 in /home/aisd/miniconda3/envs/tweetintimacy/lib/python3.9/site-packages (from huggingface-hub<1.0,>=0.34.0->transformers[torch]) (4.14.1)\n",
      "Requirement already satisfied: hf-xet<2.0.0,>=1.1.3 in /home/aisd/miniconda3/envs/tweetintimacy/lib/python3.9/site-packages (from huggingface-hub<1.0,>=0.34.0->transformers[torch]) (1.1.5)\n",
      "Requirement already satisfied: psutil in /home/aisd/miniconda3/envs/tweetintimacy/lib/python3.9/site-packages (from accelerate>=0.26.0->transformers[torch]) (7.0.0)\n",
      "Requirement already satisfied: sympy>=1.13.3 in /home/aisd/miniconda3/envs/tweetintimacy/lib/python3.9/site-packages (from torch>=2.1->transformers[torch]) (1.14.0)\n",
      "Requirement already satisfied: networkx in /home/aisd/miniconda3/envs/tweetintimacy/lib/python3.9/site-packages (from torch>=2.1->transformers[torch]) (3.2.1)\n",
      "Requirement already satisfied: jinja2 in /home/aisd/miniconda3/envs/tweetintimacy/lib/python3.9/site-packages (from torch>=2.1->transformers[torch]) (3.1.6)\n",
      "Requirement already satisfied: nvidia-cuda-nvrtc-cu11==11.8.89 in /home/aisd/miniconda3/envs/tweetintimacy/lib/python3.9/site-packages (from torch>=2.1->transformers[torch]) (11.8.89)\n",
      "Requirement already satisfied: nvidia-cuda-runtime-cu11==11.8.89 in /home/aisd/miniconda3/envs/tweetintimacy/lib/python3.9/site-packages (from torch>=2.1->transformers[torch]) (11.8.89)\n",
      "Requirement already satisfied: nvidia-cuda-cupti-cu11==11.8.87 in /home/aisd/miniconda3/envs/tweetintimacy/lib/python3.9/site-packages (from torch>=2.1->transformers[torch]) (11.8.87)\n",
      "Requirement already satisfied: nvidia-cudnn-cu11==9.1.0.70 in /home/aisd/miniconda3/envs/tweetintimacy/lib/python3.9/site-packages (from torch>=2.1->transformers[torch]) (9.1.0.70)\n",
      "Requirement already satisfied: nvidia-cublas-cu11==11.11.3.6 in /home/aisd/miniconda3/envs/tweetintimacy/lib/python3.9/site-packages (from torch>=2.1->transformers[torch]) (11.11.3.6)\n",
      "Requirement already satisfied: nvidia-cufft-cu11==10.9.0.58 in /home/aisd/miniconda3/envs/tweetintimacy/lib/python3.9/site-packages (from torch>=2.1->transformers[torch]) (10.9.0.58)\n",
      "Requirement already satisfied: nvidia-curand-cu11==10.3.0.86 in /home/aisd/miniconda3/envs/tweetintimacy/lib/python3.9/site-packages (from torch>=2.1->transformers[torch]) (10.3.0.86)\n",
      "Requirement already satisfied: nvidia-cusolver-cu11==11.4.1.48 in /home/aisd/miniconda3/envs/tweetintimacy/lib/python3.9/site-packages (from torch>=2.1->transformers[torch]) (11.4.1.48)\n",
      "Requirement already satisfied: nvidia-cusparse-cu11==11.7.5.86 in /home/aisd/miniconda3/envs/tweetintimacy/lib/python3.9/site-packages (from torch>=2.1->transformers[torch]) (11.7.5.86)\n",
      "Requirement already satisfied: nvidia-nccl-cu11==2.21.5 in /home/aisd/miniconda3/envs/tweetintimacy/lib/python3.9/site-packages (from torch>=2.1->transformers[torch]) (2.21.5)\n",
      "Requirement already satisfied: nvidia-nvtx-cu11==11.8.86 in /home/aisd/miniconda3/envs/tweetintimacy/lib/python3.9/site-packages (from torch>=2.1->transformers[torch]) (11.8.86)\n",
      "Requirement already satisfied: triton==3.3.1 in /home/aisd/miniconda3/envs/tweetintimacy/lib/python3.9/site-packages (from torch>=2.1->transformers[torch]) (3.3.1)\n",
      "Requirement already satisfied: setuptools>=40.8.0 in /home/aisd/miniconda3/envs/tweetintimacy/lib/python3.9/site-packages (from triton==3.3.1->torch>=2.1->transformers[torch]) (78.1.1)\n",
      "Requirement already satisfied: mpmath<1.4,>=1.1.0 in /home/aisd/miniconda3/envs/tweetintimacy/lib/python3.9/site-packages (from sympy>=1.13.3->torch>=2.1->transformers[torch]) (1.3.0)\n",
      "Requirement already satisfied: MarkupSafe>=2.0 in /home/aisd/miniconda3/envs/tweetintimacy/lib/python3.9/site-packages (from jinja2->torch>=2.1->transformers[torch]) (3.0.2)\n",
      "Requirement already satisfied: charset_normalizer<4,>=2 in /home/aisd/miniconda3/envs/tweetintimacy/lib/python3.9/site-packages (from requests->transformers[torch]) (3.4.2)\n",
      "Requirement already satisfied: idna<4,>=2.5 in /home/aisd/miniconda3/envs/tweetintimacy/lib/python3.9/site-packages (from requests->transformers[torch]) (3.10)\n",
      "Requirement already satisfied: urllib3<3,>=1.21.1 in /home/aisd/miniconda3/envs/tweetintimacy/lib/python3.9/site-packages (from requests->transformers[torch]) (2.5.0)\n",
      "Requirement already satisfied: certifi>=2017.4.17 in /home/aisd/miniconda3/envs/tweetintimacy/lib/python3.9/site-packages (from requests->transformers[torch]) (2025.7.14)\n"
     ]
    }
   ],
   "source": [
    "# Install the latest versions of Hugging Face libraries and their dependencies\n",
    "!pip install -U transformers accelerate evaluate\n",
    "!pip install \"transformers[torch]\""
   ]
  },
  {
   "cell_type": "markdown",
   "id": "a5a45ae7",
   "metadata": {},
   "source": [
    "This cell installs or updates the latest versions of Hugging Face Transformers, Accelerate, and Evaluate libraries, ensuring all dependencies are up to date for model training and evaluation."
   ]
  },
  {
   "cell_type": "code",
   "execution_count": 54,
   "id": "9ae73160",
   "metadata": {},
   "outputs": [],
   "source": [
    "#!pip install transformers==4.42.4\n",
    "#!pip install \"accelerate>=0.21.0\"\n",
    "#!pip install transformers[torch] --upgrade\n",
    "# ✅ Install required dependencies for Hugging Face Trainer\n",
    "#!pip install -U accelerate\n",
    "#!pip install \"transformers[torch]\" -U\n",
    "#!pip install evaluate\n",
    "#!pip install accelerate"
   ]
  },
  {
   "cell_type": "markdown",
   "id": "10f05f38",
   "metadata": {},
   "source": [
    "This cell contains optional (commented) installation commands for specific versions of Transformers, Accelerate, and Evaluate libraries. Use these if you need to match a particular version or resolve compatibility issues."
   ]
  },
  {
   "cell_type": "markdown",
   "id": "7280dc42",
   "metadata": {},
   "source": [
    "## Load Model and Training Arguments\n"
   ]
  },
  {
   "cell_type": "code",
   "execution_count": 53,
   "id": "c23e0f4f",
   "metadata": {},
   "outputs": [
    {
     "data": {
      "text/plain": [
       "3266"
      ]
     },
     "execution_count": 53,
     "metadata": {},
     "output_type": "execute_result"
    }
   ],
   "source": [
    "import torch\n",
    "import gc\n",
    "if 'model' in globals():\n",
    "    del model\n",
    "torch.cuda.empty_cache()\n",
    "gc.collect()"
   ]
  },
  {
   "cell_type": "markdown",
   "id": "9d891d75",
   "metadata": {},
   "source": [
    "This cell clears any previously loaded models from GPU memory, empties the CUDA cache, and performs garbage collection to free up resources before loading a new model."
   ]
  },
  {
   "cell_type": "code",
   "execution_count": null,
   "id": "f2e29747",
   "metadata": {},
   "outputs": [
    {
     "name": "stdout",
     "output_type": "stream",
     "text": [
      "CUDA Available: True\n",
      "Number of visible GPUs: 1\n",
      "Current device: 0\n",
      "Device name: NVIDIA GeForce RTX 4070\n",
      "GPU Memory: 12.6 GB\n",
      "GPU Memory Used: 0.00 GB\n",
      "\n",
      "✅ Using existing encoded_dataset with 9491 samples\n",
      "✅ Using existing tokenizer for xlm-roberta-large\n",
      "✅ Using existing train_df: (9491, 3)\n",
      "✅ Using existing test_df: (13697, 2)\n"
     ]
    }
   ],
   "source": [
    "import os\n",
    "# CRITICAL: Set these BEFORE any other imports\n",
    "os.environ[\"CUDA_VISIBLE_DEVICES\"] = \"1\"  # Use only GPU 1\n",
    "os.environ[\"TOKENIZERS_PARALLELISM\"] = \"false\"  # Fix tokenizer warning\n",
    "os.environ[\"NCCL_P2P_DISABLE\"] = \"1\"\n",
    "os.environ[\"NCCL_IB_DISABLE\"] = \"1\"\n",
    "\n",
    "import torch\n",
    "import pandas as pd\n",
    "import numpy as np\n",
    "import evaluate\n",
    "from datasets import Dataset\n",
    "from transformers import (\n",
    "    AutoTokenizer, \n",
    "    AutoModelForSequenceClassification, \n",
    "    TrainingArguments, \n",
    "    Trainer,\n",
    "    EarlyStoppingCallback\n",
    ")\n",
    "\n",
    "# Verify uses of  GPU 1 (will show as device 0 because of CUDA_VISIBLE_DEVICES)\n",
    "print(f\"CUDA Available: {torch.cuda.is_available()}\")\n",
    "print(f\"Number of visible GPUs: {torch.cuda.device_count()}\")\n",
    "print(f\"Current device: {torch.cuda.current_device()}\")\n",
    "print(f\"Device name: {torch.cuda.get_device_name(0)}\")  # This is actually GPU 1\n",
    "print(f\"GPU Memory: {torch.cuda.get_device_properties(0).total_memory / 1e9:.1f} GB\")\n",
    "print(f\"GPU Memory Used: {torch.cuda.memory_allocated(0) / 1e9:.2f} GB\")\n",
    "\n",
    "# Using existing variables:\n",
    "# - encoded_dataset (already created)\n",
    "# - tokenizer (already loaded) \n",
    "# - model_ckpt = \"xlm-roberta-large\" (already set)\n",
    "# - train_df, test_df (already loaded)\n",
    "\n",
    "print(f\"\\n✅ Using existing encoded_dataset with {len(encoded_dataset)} samples\")\n",
    "print(f\"✅ Using existing tokenizer for {model_ckpt}\")\n",
    "print(f\"✅ Using existing train_df: {train_df.shape}\")\n",
    "print(f\"✅ Using existing test_df: {test_df.shape}\")"
   ]
  },
  {
   "cell_type": "markdown",
   "id": "50f5213d",
   "metadata": {},
   "source": [
    "This cell sets environment variables to control GPU usage and tokenizer parallelism, then verifies the GPU setup and prints information about the available GPU and memory."
   ]
  },
  {
   "cell_type": "code",
   "execution_count": 21,
   "id": "3a454ea8",
   "metadata": {},
   "outputs": [
    {
     "name": "stdout",
     "output_type": "stream",
     "text": [
      "🔍 Step 1: Checking and fixing data...\n",
      "Dataset columns: ['text', 'labels', 'language', 'input_ids', 'attention_mask']\n",
      "Train_df columns: ['text', 'label', 'language']\n",
      "\n",
      "Using label column: 'label'\n",
      "Label stats:\n",
      "count    9491.000000\n",
      "mean        2.093782\n",
      "std         0.903512\n",
      "min         1.000000\n",
      "25%         1.400000\n",
      "50%         2.000000\n",
      "75%         2.666667\n",
      "max         5.000000\n",
      "Name: label, dtype: float64\n"
     ]
    }
   ],
   "source": [
    "# 1. DATA DIAGNOSTICS & FIXES\n",
    "# ========================================\n",
    "print(\"🔍 Step 1: Checking and fixing data...\")\n",
    "\n",
    "# Check what columns we have\n",
    "print(f\"Dataset columns: {encoded_dataset.column_names}\")\n",
    "print(f\"Train_df columns: {train_df.columns.tolist()}\")\n",
    "\n",
    "# Check label column and stats\n",
    "if 'label' in train_df.columns:\n",
    "    label_col = 'label'\n",
    "elif 'intimacy' in train_df.columns:\n",
    "    label_col = 'intimacy'\n",
    "else:\n",
    "    print(\"❌ No clear label column found!\")\n",
    "    print(\"Available columns:\", train_df.columns.tolist())\n",
    "    # Let user specify the correct column name\n",
    "    label_col = input(\"Enter the correct label column name: \")\n",
    "\n",
    "print(f\"\\nUsing label column: '{label_col}'\")\n",
    "print(f\"Label stats:\")\n",
    "print(train_df[label_col].describe())\n",
    "\n",
    "# Fix label column name in dataset\n",
    "if 'labels' not in encoded_dataset.column_names:\n",
    "    if label_col in encoded_dataset.column_names:\n",
    "        encoded_dataset = encoded_dataset.rename_column(label_col, 'labels')\n",
    "        print(f\"✅ Renamed '{label_col}' to 'labels'\")\n",
    "    else:\n",
    "        print(f\"❌ Column '{label_col}' not found in encoded_dataset\")"
   ]
  },
  {
   "cell_type": "markdown",
   "id": "266a7d3f",
   "metadata": {},
   "source": [
    "This cell performs data diagnostics, checks for the correct label column, prints label statistics, and ensures the label column is properly named for model training."
   ]
  },
  {
   "cell_type": "code",
   "execution_count": null,
   "id": "d706674d",
   "metadata": {},
   "outputs": [
    {
     "name": "stdout",
     "output_type": "stream",
     "text": [
      "\n",
      "📥 Loading xlm-roberta-large...\n"
     ]
    },
    {
     "name": "stderr",
     "output_type": "stream",
     "text": [
      "Some weights of XLMRobertaForSequenceClassification were not initialized from the model checkpoint at xlm-roberta-large and are newly initialized: ['classifier.dense.bias', 'classifier.dense.weight', 'classifier.out_proj.bias', 'classifier.out_proj.weight']\n",
      "You should probably TRAIN this model on a down-stream task to be able to use it for predictions and inference.\n"
     ]
    },
    {
     "name": "stdout",
     "output_type": "stream",
     "text": [
      "\n",
      "✅ Setup complete on GPU 1!\n",
      "🚀 Ready to train with xlm-roberta-large on the free GPU!\n"
     ]
    }
   ],
   "source": [
    "\n",
    "# Load model on GPU \n",
    "print(f\"\\n📥 Loading {model_ckpt}...\")\n",
    "model = AutoModelForSequenceClassification.from_pretrained(model_ckpt, num_labels=1)\n",
    "\n",
    "# Evaluation metric\n",
    "pearson = evaluate.load(\"pearsonr\")\n",
    "\n",
    "def compute_metrics(eval_pred):\n",
    "    predictions, labels = eval_pred\n",
    "    predictions = np.squeeze(predictions)\n",
    "    return pearson.compute(predictions=predictions, references=labels)\n",
    "\n",
    "# Train arguments\n",
    "training_args = TrainingArguments(\n",
    "    output_dir=\"./no_num_pretrain_model\",\n",
    "    overwrite_output_dir=True,\n",
    "    num_train_epochs=3,\n",
    "    per_device_train_batch_size=16,     \n",
    "    per_device_eval_batch_size=32,      \n",
    "    do_train=True,\n",
    "    do_eval=True,\n",
    "    eval_strategy=\"steps\",\n",
    "    logging_steps=10,\n",
    "    save_steps=2000,\n",
    "    eval_steps=10,\n",
    "    load_best_model_at_end=True,\n",
    "    metric_for_best_model=\"eval_pearsonr\",\n",
    "    greater_is_better=True,\n",
    "    fp16=True,                         # Still use mixed precision for speed\n",
    ")\n",
    "\n",
    "# Early stopping\n",
    "early_stopping = EarlyStoppingCallback(\n",
    "    early_stopping_patience=3,\n",
    "    early_stopping_threshold=0.001\n",
    ")\n",
    "\n",
    "print(\"\\n✅ Setup complete on GPU 1!\")\n",
    "print(\"🚀 Ready to train with xlm-roberta-large on the free GPU!\")"
   ]
  },
  {
   "cell_type": "markdown",
   "id": "276eafe6",
   "metadata": {},
   "source": [
    "This cell loads the XLM-RoBERTa model for sequence classification, sets up the Pearson correlation metric, defines the compute_metrics function, and configures the training arguments and early stopping callback."
   ]
  },
  {
   "cell_type": "code",
   "execution_count": 30,
   "id": "92d33e6f",
   "metadata": {},
   "outputs": [
    {
     "name": "stdout",
     "output_type": "stream",
     "text": [
      "🚀 Starting training...\n"
     ]
    },
    {
     "name": "stderr",
     "output_type": "stream",
     "text": [
      "/tmp/ipykernel_446901/3410002312.py:4: FutureWarning: `tokenizer` is deprecated and will be removed in version 5.0.0 for `Trainer.__init__`. Use `processing_class` instead.\n",
      "  trainer = Trainer(\n",
      "/home/aisd/miniconda3/envs/tweetintimacy/lib/python3.9/site-packages/torch/nn/modules/module.py:1762: FutureWarning: `encoder_attention_mask` is deprecated and will be removed in version 4.55.0 for `XLMRobertaSdpaSelfAttention.forward`.\n",
      "  return forward_call(*args, **kwargs)\n"
     ]
    },
    {
     "data": {
      "text/html": [
       "\n",
       "    <div>\n",
       "      \n",
       "      <progress value='5935' max='5935' style='width:300px; height:20px; vertical-align: middle;'></progress>\n",
       "      [5935/5935 31:19, Epoch 5/5]\n",
       "    </div>\n",
       "    <table border=\"1\" class=\"dataframe\">\n",
       "  <thead>\n",
       " <tr style=\"text-align: left;\">\n",
       "      <th>Step</th>\n",
       "      <th>Training Loss</th>\n",
       "      <th>Validation Loss</th>\n",
       "      <th>Pearsonr</th>\n",
       "    </tr>\n",
       "  </thead>\n",
       "  <tbody>\n",
       "    <tr>\n",
       "      <td>200</td>\n",
       "      <td>0.903600</td>\n",
       "      <td>0.896385</td>\n",
       "      <td>0.201625</td>\n",
       "    </tr>\n",
       "    <tr>\n",
       "      <td>400</td>\n",
       "      <td>0.721700</td>\n",
       "      <td>0.634376</td>\n",
       "      <td>0.576613</td>\n",
       "    </tr>\n",
       "    <tr>\n",
       "      <td>600</td>\n",
       "      <td>0.538800</td>\n",
       "      <td>0.456380</td>\n",
       "      <td>0.672376</td>\n",
       "    </tr>\n",
       "    <tr>\n",
       "      <td>800</td>\n",
       "      <td>0.531400</td>\n",
       "      <td>0.452519</td>\n",
       "      <td>0.693351</td>\n",
       "    </tr>\n",
       "    <tr>\n",
       "      <td>1000</td>\n",
       "      <td>0.526600</td>\n",
       "      <td>0.437158</td>\n",
       "      <td>0.696762</td>\n",
       "    </tr>\n",
       "    <tr>\n",
       "      <td>1200</td>\n",
       "      <td>0.409200</td>\n",
       "      <td>0.462118</td>\n",
       "      <td>0.705178</td>\n",
       "    </tr>\n",
       "    <tr>\n",
       "      <td>1400</td>\n",
       "      <td>0.558500</td>\n",
       "      <td>0.441148</td>\n",
       "      <td>0.731410</td>\n",
       "    </tr>\n",
       "    <tr>\n",
       "      <td>1600</td>\n",
       "      <td>0.494600</td>\n",
       "      <td>0.329584</td>\n",
       "      <td>0.753754</td>\n",
       "    </tr>\n",
       "    <tr>\n",
       "      <td>1800</td>\n",
       "      <td>0.418600</td>\n",
       "      <td>0.328061</td>\n",
       "      <td>0.766775</td>\n",
       "    </tr>\n",
       "    <tr>\n",
       "      <td>2000</td>\n",
       "      <td>0.447100</td>\n",
       "      <td>0.326795</td>\n",
       "      <td>0.769994</td>\n",
       "    </tr>\n",
       "    <tr>\n",
       "      <td>2200</td>\n",
       "      <td>0.454300</td>\n",
       "      <td>0.384678</td>\n",
       "      <td>0.765695</td>\n",
       "    </tr>\n",
       "    <tr>\n",
       "      <td>2400</td>\n",
       "      <td>0.424200</td>\n",
       "      <td>0.391333</td>\n",
       "      <td>0.784328</td>\n",
       "    </tr>\n",
       "    <tr>\n",
       "      <td>2600</td>\n",
       "      <td>0.327300</td>\n",
       "      <td>0.297954</td>\n",
       "      <td>0.808145</td>\n",
       "    </tr>\n",
       "    <tr>\n",
       "      <td>2800</td>\n",
       "      <td>0.311900</td>\n",
       "      <td>0.314749</td>\n",
       "      <td>0.803522</td>\n",
       "    </tr>\n",
       "    <tr>\n",
       "      <td>3000</td>\n",
       "      <td>0.395000</td>\n",
       "      <td>0.243948</td>\n",
       "      <td>0.827064</td>\n",
       "    </tr>\n",
       "    <tr>\n",
       "      <td>3200</td>\n",
       "      <td>0.350100</td>\n",
       "      <td>0.275691</td>\n",
       "      <td>0.838464</td>\n",
       "    </tr>\n",
       "    <tr>\n",
       "      <td>3400</td>\n",
       "      <td>0.391100</td>\n",
       "      <td>0.228083</td>\n",
       "      <td>0.843737</td>\n",
       "    </tr>\n",
       "    <tr>\n",
       "      <td>3600</td>\n",
       "      <td>0.279700</td>\n",
       "      <td>0.274330</td>\n",
       "      <td>0.845926</td>\n",
       "    </tr>\n",
       "    <tr>\n",
       "      <td>3800</td>\n",
       "      <td>0.299500</td>\n",
       "      <td>0.215472</td>\n",
       "      <td>0.853567</td>\n",
       "    </tr>\n",
       "    <tr>\n",
       "      <td>4000</td>\n",
       "      <td>0.267700</td>\n",
       "      <td>0.216700</td>\n",
       "      <td>0.866559</td>\n",
       "    </tr>\n",
       "    <tr>\n",
       "      <td>4200</td>\n",
       "      <td>0.288200</td>\n",
       "      <td>0.238692</td>\n",
       "      <td>0.867774</td>\n",
       "    </tr>\n",
       "    <tr>\n",
       "      <td>4400</td>\n",
       "      <td>0.276800</td>\n",
       "      <td>0.247906</td>\n",
       "      <td>0.874425</td>\n",
       "    </tr>\n",
       "    <tr>\n",
       "      <td>4600</td>\n",
       "      <td>0.269200</td>\n",
       "      <td>0.216465</td>\n",
       "      <td>0.882617</td>\n",
       "    </tr>\n",
       "    <tr>\n",
       "      <td>4800</td>\n",
       "      <td>0.248100</td>\n",
       "      <td>0.189229</td>\n",
       "      <td>0.887695</td>\n",
       "    </tr>\n",
       "    <tr>\n",
       "      <td>5000</td>\n",
       "      <td>0.235800</td>\n",
       "      <td>0.177339</td>\n",
       "      <td>0.889707</td>\n",
       "    </tr>\n",
       "    <tr>\n",
       "      <td>5200</td>\n",
       "      <td>0.195900</td>\n",
       "      <td>0.160599</td>\n",
       "      <td>0.893267</td>\n",
       "    </tr>\n",
       "    <tr>\n",
       "      <td>5400</td>\n",
       "      <td>0.209600</td>\n",
       "      <td>0.163733</td>\n",
       "      <td>0.895831</td>\n",
       "    </tr>\n",
       "    <tr>\n",
       "      <td>5600</td>\n",
       "      <td>0.232400</td>\n",
       "      <td>0.158303</td>\n",
       "      <td>0.897349</td>\n",
       "    </tr>\n",
       "    <tr>\n",
       "      <td>5800</td>\n",
       "      <td>0.269000</td>\n",
       "      <td>0.165090</td>\n",
       "      <td>0.898373</td>\n",
       "    </tr>\n",
       "  </tbody>\n",
       "</table><p>"
      ],
      "text/plain": [
       "<IPython.core.display.HTML object>"
      ]
     },
     "metadata": {},
     "output_type": "display_data"
    },
    {
     "name": "stderr",
     "output_type": "stream",
     "text": [
      "/home/aisd/miniconda3/envs/tweetintimacy/lib/python3.9/site-packages/torch/nn/modules/module.py:1762: FutureWarning: `encoder_attention_mask` is deprecated and will be removed in version 4.55.0 for `XLMRobertaSdpaSelfAttention.forward`.\n",
      "  return forward_call(*args, **kwargs)\n",
      "/home/aisd/miniconda3/envs/tweetintimacy/lib/python3.9/site-packages/torch/nn/modules/module.py:1762: FutureWarning: `encoder_attention_mask` is deprecated and will be removed in version 4.55.0 for `XLMRobertaSdpaSelfAttention.forward`.\n",
      "  return forward_call(*args, **kwargs)\n",
      "/home/aisd/miniconda3/envs/tweetintimacy/lib/python3.9/site-packages/torch/nn/modules/module.py:1762: FutureWarning: `encoder_attention_mask` is deprecated and will be removed in version 4.55.0 for `XLMRobertaSdpaSelfAttention.forward`.\n",
      "  return forward_call(*args, **kwargs)\n",
      "/home/aisd/miniconda3/envs/tweetintimacy/lib/python3.9/site-packages/torch/nn/modules/module.py:1762: FutureWarning: `encoder_attention_mask` is deprecated and will be removed in version 4.55.0 for `XLMRobertaSdpaSelfAttention.forward`.\n",
      "  return forward_call(*args, **kwargs)\n",
      "/home/aisd/miniconda3/envs/tweetintimacy/lib/python3.9/site-packages/torch/nn/modules/module.py:1762: FutureWarning: `encoder_attention_mask` is deprecated and will be removed in version 4.55.0 for `XLMRobertaSdpaSelfAttention.forward`.\n",
      "  return forward_call(*args, **kwargs)\n",
      "/home/aisd/miniconda3/envs/tweetintimacy/lib/python3.9/site-packages/torch/nn/modules/module.py:1762: FutureWarning: `encoder_attention_mask` is deprecated and will be removed in version 4.55.0 for `XLMRobertaSdpaSelfAttention.forward`.\n",
      "  return forward_call(*args, **kwargs)\n",
      "/home/aisd/miniconda3/envs/tweetintimacy/lib/python3.9/site-packages/torch/nn/modules/module.py:1762: FutureWarning: `encoder_attention_mask` is deprecated and will be removed in version 4.55.0 for `XLMRobertaSdpaSelfAttention.forward`.\n",
      "  return forward_call(*args, **kwargs)\n",
      "/home/aisd/miniconda3/envs/tweetintimacy/lib/python3.9/site-packages/torch/nn/modules/module.py:1762: FutureWarning: `encoder_attention_mask` is deprecated and will be removed in version 4.55.0 for `XLMRobertaSdpaSelfAttention.forward`.\n",
      "  return forward_call(*args, **kwargs)\n",
      "/home/aisd/miniconda3/envs/tweetintimacy/lib/python3.9/site-packages/torch/nn/modules/module.py:1762: FutureWarning: `encoder_attention_mask` is deprecated and will be removed in version 4.55.0 for `XLMRobertaSdpaSelfAttention.forward`.\n",
      "  return forward_call(*args, **kwargs)\n",
      "/home/aisd/miniconda3/envs/tweetintimacy/lib/python3.9/site-packages/torch/nn/modules/module.py:1762: FutureWarning: `encoder_attention_mask` is deprecated and will be removed in version 4.55.0 for `XLMRobertaSdpaSelfAttention.forward`.\n",
      "  return forward_call(*args, **kwargs)\n",
      "/home/aisd/miniconda3/envs/tweetintimacy/lib/python3.9/site-packages/torch/nn/modules/module.py:1762: FutureWarning: `encoder_attention_mask` is deprecated and will be removed in version 4.55.0 for `XLMRobertaSdpaSelfAttention.forward`.\n",
      "  return forward_call(*args, **kwargs)\n",
      "/home/aisd/miniconda3/envs/tweetintimacy/lib/python3.9/site-packages/torch/nn/modules/module.py:1762: FutureWarning: `encoder_attention_mask` is deprecated and will be removed in version 4.55.0 for `XLMRobertaSdpaSelfAttention.forward`.\n",
      "  return forward_call(*args, **kwargs)\n",
      "/home/aisd/miniconda3/envs/tweetintimacy/lib/python3.9/site-packages/torch/nn/modules/module.py:1762: FutureWarning: `encoder_attention_mask` is deprecated and will be removed in version 4.55.0 for `XLMRobertaSdpaSelfAttention.forward`.\n",
      "  return forward_call(*args, **kwargs)\n",
      "/home/aisd/miniconda3/envs/tweetintimacy/lib/python3.9/site-packages/torch/nn/modules/module.py:1762: FutureWarning: `encoder_attention_mask` is deprecated and will be removed in version 4.55.0 for `XLMRobertaSdpaSelfAttention.forward`.\n",
      "  return forward_call(*args, **kwargs)\n",
      "/home/aisd/miniconda3/envs/tweetintimacy/lib/python3.9/site-packages/torch/nn/modules/module.py:1762: FutureWarning: `encoder_attention_mask` is deprecated and will be removed in version 4.55.0 for `XLMRobertaSdpaSelfAttention.forward`.\n",
      "  return forward_call(*args, **kwargs)\n",
      "/home/aisd/miniconda3/envs/tweetintimacy/lib/python3.9/site-packages/torch/nn/modules/module.py:1762: FutureWarning: `encoder_attention_mask` is deprecated and will be removed in version 4.55.0 for `XLMRobertaSdpaSelfAttention.forward`.\n",
      "  return forward_call(*args, **kwargs)\n",
      "/home/aisd/miniconda3/envs/tweetintimacy/lib/python3.9/site-packages/torch/nn/modules/module.py:1762: FutureWarning: `encoder_attention_mask` is deprecated and will be removed in version 4.55.0 for `XLMRobertaSdpaSelfAttention.forward`.\n",
      "  return forward_call(*args, **kwargs)\n",
      "/home/aisd/miniconda3/envs/tweetintimacy/lib/python3.9/site-packages/torch/nn/modules/module.py:1762: FutureWarning: `encoder_attention_mask` is deprecated and will be removed in version 4.55.0 for `XLMRobertaSdpaSelfAttention.forward`.\n",
      "  return forward_call(*args, **kwargs)\n",
      "/home/aisd/miniconda3/envs/tweetintimacy/lib/python3.9/site-packages/torch/nn/modules/module.py:1762: FutureWarning: `encoder_attention_mask` is deprecated and will be removed in version 4.55.0 for `XLMRobertaSdpaSelfAttention.forward`.\n",
      "  return forward_call(*args, **kwargs)\n",
      "/home/aisd/miniconda3/envs/tweetintimacy/lib/python3.9/site-packages/torch/nn/modules/module.py:1762: FutureWarning: `encoder_attention_mask` is deprecated and will be removed in version 4.55.0 for `XLMRobertaSdpaSelfAttention.forward`.\n",
      "  return forward_call(*args, **kwargs)\n",
      "/home/aisd/miniconda3/envs/tweetintimacy/lib/python3.9/site-packages/torch/nn/modules/module.py:1762: FutureWarning: `encoder_attention_mask` is deprecated and will be removed in version 4.55.0 for `XLMRobertaSdpaSelfAttention.forward`.\n",
      "  return forward_call(*args, **kwargs)\n",
      "/home/aisd/miniconda3/envs/tweetintimacy/lib/python3.9/site-packages/torch/nn/modules/module.py:1762: FutureWarning: `encoder_attention_mask` is deprecated and will be removed in version 4.55.0 for `XLMRobertaSdpaSelfAttention.forward`.\n",
      "  return forward_call(*args, **kwargs)\n",
      "/home/aisd/miniconda3/envs/tweetintimacy/lib/python3.9/site-packages/torch/nn/modules/module.py:1762: FutureWarning: `encoder_attention_mask` is deprecated and will be removed in version 4.55.0 for `XLMRobertaSdpaSelfAttention.forward`.\n",
      "  return forward_call(*args, **kwargs)\n",
      "/home/aisd/miniconda3/envs/tweetintimacy/lib/python3.9/site-packages/torch/nn/modules/module.py:1762: FutureWarning: `encoder_attention_mask` is deprecated and will be removed in version 4.55.0 for `XLMRobertaSdpaSelfAttention.forward`.\n",
      "  return forward_call(*args, **kwargs)\n",
      "/home/aisd/miniconda3/envs/tweetintimacy/lib/python3.9/site-packages/torch/nn/modules/module.py:1762: FutureWarning: `encoder_attention_mask` is deprecated and will be removed in version 4.55.0 for `XLMRobertaSdpaSelfAttention.forward`.\n",
      "  return forward_call(*args, **kwargs)\n",
      "/home/aisd/miniconda3/envs/tweetintimacy/lib/python3.9/site-packages/torch/nn/modules/module.py:1762: FutureWarning: `encoder_attention_mask` is deprecated and will be removed in version 4.55.0 for `XLMRobertaSdpaSelfAttention.forward`.\n",
      "  return forward_call(*args, **kwargs)\n",
      "/home/aisd/miniconda3/envs/tweetintimacy/lib/python3.9/site-packages/torch/nn/modules/module.py:1762: FutureWarning: `encoder_attention_mask` is deprecated and will be removed in version 4.55.0 for `XLMRobertaSdpaSelfAttention.forward`.\n",
      "  return forward_call(*args, **kwargs)\n",
      "/home/aisd/miniconda3/envs/tweetintimacy/lib/python3.9/site-packages/torch/nn/modules/module.py:1762: FutureWarning: `encoder_attention_mask` is deprecated and will be removed in version 4.55.0 for `XLMRobertaSdpaSelfAttention.forward`.\n",
      "  return forward_call(*args, **kwargs)\n",
      "/home/aisd/miniconda3/envs/tweetintimacy/lib/python3.9/site-packages/torch/nn/modules/module.py:1762: FutureWarning: `encoder_attention_mask` is deprecated and will be removed in version 4.55.0 for `XLMRobertaSdpaSelfAttention.forward`.\n",
      "  return forward_call(*args, **kwargs)\n"
     ]
    },
    {
     "data": {
      "text/plain": [
       "TrainOutput(global_step=5935, training_loss=0.4225232918923305, metrics={'train_runtime': 1879.6622, 'train_samples_per_second': 25.247, 'train_steps_per_second': 3.157, 'total_flos': 1.105616335510656e+16, 'train_loss': 0.4225232918923305, 'epoch': 5.0})"
      ]
     },
     "execution_count": 30,
     "metadata": {},
     "output_type": "execute_result"
    }
   ],
   "source": [
    "# 🚀 7. Train the Model\n",
    "print(\"🚀 Starting training...\")\n",
    "# After running the setup code above:\n",
    "trainer = Trainer(\n",
    "    model=model,\n",
    "    args=training_args,\n",
    "    train_dataset=encoded_dataset,\n",
    "    eval_dataset=encoded_dataset.train_test_split(test_size=0.1, seed=42)[\"test\"],\n",
    "    tokenizer=tokenizer,\n",
    "    compute_metrics=compute_metrics,\n",
    "    callbacks=[early_stopping],\n",
    ")\n",
    "\n",
    "trainer.train()"
   ]
  },
  {
   "cell_type": "markdown",
   "id": "7b8e31f6",
   "metadata": {},
   "source": [
    "This cell initializes the Hugging Face Trainer with the model, training arguments, datasets, tokenizer, metrics, and early stopping callback, then starts the model training process."
   ]
  },
  {
   "cell_type": "markdown",
   "id": "2eab1a4b",
   "metadata": {},
   "source": [
    "Evaluate Model on the Official Test Set"
   ]
  },
  {
   "cell_type": "code",
   "execution_count": 32,
   "id": "eb30c7c8",
   "metadata": {},
   "outputs": [
    {
     "name": "stderr",
     "output_type": "stream",
     "text": [
      "Map: 100%|██████████| 13697/13697 [00:02<00:00, 6623.81 examples/s]"
     ]
    },
    {
     "name": "stdout",
     "output_type": "stream",
     "text": [
      "✅ Test dataset is ready for prediction.\n",
      "Dataset({\n",
      "    features: ['input_ids', 'attention_mask'],\n",
      "    num_rows: 13697\n",
      "})\n"
     ]
    },
    {
     "name": "stderr",
     "output_type": "stream",
     "text": [
      "\n"
     ]
    }
   ],
   "source": [
    "# Convert the test dataframe to a Hugging Face Dataset\n",
    "test_dataset = Dataset.from_pandas(test_df)\n",
    "\n",
    "# Tokenize the test dataset\n",
    "# Note: The test set doesn't have a 'label' column, which is fine for prediction.\n",
    "encoded_test_dataset = test_dataset.map(tokenize, batched=True)\n",
    "\n",
    "# Remove the text column as the model doesn't need it anymore\n",
    "encoded_test_dataset = encoded_test_dataset.remove_columns(['text', 'language'])\n",
    "\n",
    "\n",
    "print(\"✅ Test dataset is ready for prediction.\")\n",
    "print(encoded_test_dataset)"
   ]
  },
  {
   "cell_type": "markdown",
   "id": "43cce43f",
   "metadata": {},
   "source": [
    "This cell converts the test DataFrame to a Hugging Face Dataset, tokenizes the test data, removes unnecessary columns, and prepares the test set for generating predictions."
   ]
  },
  {
   "cell_type": "markdown",
   "id": "5ef565d3",
   "metadata": {},
   "source": [
    "# Generate Predictions"
   ]
  },
  {
   "cell_type": "code",
   "execution_count": 33,
   "id": "db9a3f10",
   "metadata": {},
   "outputs": [
    {
     "name": "stdout",
     "output_type": "stream",
     "text": [
      "🚀 Generating predictions on the test set...\n"
     ]
    },
    {
     "name": "stderr",
     "output_type": "stream",
     "text": [
      "/home/aisd/miniconda3/envs/tweetintimacy/lib/python3.9/site-packages/torch/nn/modules/module.py:1762: FutureWarning: `encoder_attention_mask` is deprecated and will be removed in version 4.55.0 for `XLMRobertaSdpaSelfAttention.forward`.\n",
      "  return forward_call(*args, **kwargs)\n"
     ]
    },
    {
     "data": {
      "text/html": [],
      "text/plain": [
       "<IPython.core.display.HTML object>"
      ]
     },
     "metadata": {},
     "output_type": "display_data"
    },
    {
     "name": "stdout",
     "output_type": "stream",
     "text": [
      "✅ Predictions generated successfully!\n",
      "Shape of predictions: (13697,)\n",
      "First 5 predicted scores: [2.3144531 1.4882812 2.953125  1.4306641 2.859375 ]\n"
     ]
    }
   ],
   "source": [
    "# Generate predictions\n",
    "print(\"🚀 Generating predictions on the test set...\")\n",
    "predictions = trainer.predict(encoded_test_dataset)\n",
    "\n",
    "# The output is a PredictionOutput object, which contains predictions, label_ids (if any), and metrics.\n",
    "# For regression, the predictions will be in a numpy array.\n",
    "predicted_scores = predictions.predictions.squeeze()\n",
    "\n",
    "print(\"✅ Predictions generated successfully!\")\n",
    "print(\"Shape of predictions:\", predicted_scores.shape)\n",
    "print(\"First 5 predicted scores:\", predicted_scores[:5])"
   ]
  },
  {
   "cell_type": "markdown",
   "id": "d43520c3",
   "metadata": {},
   "source": [
    "This cell uses the trained model to generate predicted intimacy scores for the test set and displays the shape and a preview of the predictions."
   ]
  },
  {
   "cell_type": "code",
   "execution_count": 39,
   "id": "c5ece5e5",
   "metadata": {},
   "outputs": [
    {
     "name": "stdout",
     "output_type": "stream",
     "text": [
      "✅ Final model and tokenizer saved to ./final_model\n"
     ]
    }
   ],
   "source": [
    "#Save  Final Model and Tokenizer\n",
    "# Define a path to save the final model\n",
    "final_model_path = \"./final_model\"\n",
    "\n",
    "# Save the model and tokenizer\n",
    "trainer.save_model(final_model_path)\n",
    "tokenizer.save_pretrained(final_model_path)\n",
    "\n",
    "print(f\"✅ Final model and tokenizer saved to {final_model_path}\")"
   ]
  },
  {
   "cell_type": "markdown",
   "id": "c736a6c0",
   "metadata": {},
   "source": [
    "This cell saves the trained model and tokenizer to the specified directory so they can be reloaded and used for inference or further training later."
   ]
  },
  {
   "cell_type": "code",
   "execution_count": null,
   "id": "cceb76be",
   "metadata": {},
   "outputs": [],
   "source": [
    "#load it back anytime\n",
    "# from transformers import AutoTokenizer, AutoModelForSequenceClassification\n",
    "\n",
    "# loaded_model = AutoModelForSequenceClassification.from_pretrained(final_model_path)\n",
    "# loaded_tokenizer = AutoTokenizer.from_pretrained(final_model_path)"
   ]
  },
  {
   "cell_type": "markdown",
   "id": "650f73c4",
   "metadata": {},
   "source": [
    "This cell provides example code (commented) for reloading the saved model and tokenizer from disk for future inference or continued training."
   ]
  },
  {
   "cell_type": "code",
   "execution_count": 62,
   "id": "44533a99",
   "metadata": {},
   "outputs": [
    {
     "name": "stdout",
     "output_type": "stream",
     "text": [
      "Columns before check: ['text', 'language']\n",
      "-> 'id' column not found. Creating one from the DataFrame index.\n",
      "-> 'id' column created successfully.\n",
      "\n",
      "Columns after check: ['id', 'text', 'language']\n",
      "\n",
      "Preview of test_df with 'id' column:\n",
      "   id                                               text language\n",
      "0   0                           @user الأشقياء الطيبين 🤭   Arabic\n",
      "1   1                               @user Un caffè? ☕😁😁😁  Italian\n",
      "2   2         @user girl!! we support u no matter what 😚  English\n",
      "3   3                                          @user 아..   Korean\n",
      "4   4  @user @user Pouaaaah jle chantais taleur arrêt...   French\n"
     ]
    }
   ],
   "source": [
    "# Check if 'id' column exists, if not, create it from the index\n",
    "print(\"Columns before check:\", test_df.columns.tolist())\n",
    "if 'id' not in test_df.columns:\n",
    "    print(\"-> 'id' column not found. Creating one from the DataFrame index.\")\n",
    "    test_df.reset_index(inplace=True)\n",
    "    test_df.rename(columns={'index': 'id'}, inplace=True)\n",
    "    print(\"-> 'id' column created successfully.\")\n",
    "\n",
    "print(\"\\nColumns after check:\", test_df.columns.tolist())\n",
    "print(\"\\nPreview of test_df with 'id' column:\")\n",
    "print(test_df.head())"
   ]
  },
  {
   "cell_type": "markdown",
   "id": "7b88e385",
   "metadata": {},
   "source": [
    "This cell checks if the test DataFrame has an 'id' column, and if not, creates one from the index. This is necessary for matching predictions to the original test samples."
   ]
  },
  {
   "cell_type": "code",
   "execution_count": 63,
   "id": "5b9219a8",
   "metadata": {},
   "outputs": [
    {
     "name": "stdout",
     "output_type": "stream",
     "text": [
      "✅ 'predicted_intimacy' column added.\n",
      "\n",
      "Preview of test_df with predictions:\n",
      "   id                                               text  predicted_intimacy\n",
      "0   0                           @user الأشقياء الطيبين 🤭            2.314453\n",
      "1   1                               @user Un caffè? ☕😁😁😁            1.488281\n",
      "2   2         @user girl!! we support u no matter what 😚            2.953125\n",
      "3   3                                          @user 아..            1.430664\n",
      "4   4  @user @user Pouaaaah jle chantais taleur arrêt...            2.859375\n"
     ]
    }
   ],
   "source": [
    "# This assumes 'predicted_scores' exists from your trainer.predict() step\n",
    "test_df['predicted_intimacy'] = predicted_scores\n",
    "\n",
    "print(\"✅ 'predicted_intimacy' column added.\")\n",
    "print(\"\\nPreview of test_df with predictions:\")\n",
    "# Display the id, text, and new prediction columns\n",
    "print(test_df[['id', 'text', 'predicted_intimacy']].head())\n"
   ]
  },
  {
   "cell_type": "markdown",
   "id": "b0d3ea11",
   "metadata": {},
   "source": [
    "This cell adds the predicted intimacy scores to the test DataFrame and displays a preview of the results, including the id, text, and predicted intimacy columns."
   ]
  },
  {
   "cell_type": "code",
   "execution_count": 65,
   "id": "03776ecf",
   "metadata": {},
   "outputs": [
    {
     "name": "stdout",
     "output_type": "stream",
     "text": [
      "\n",
      "✅ Submission file created successfully at: outputs/test_predictions.csv\n",
      "\n",
      "--- Verifying the final submission file ---\n",
      "   id                                               text  predicted_intimacy\n",
      "0   0                           @user الأشقياء الطيبين 🤭            2.314453\n",
      "1   1                               @user Un caffè? ☕😁😁😁            1.488281\n",
      "2   2         @user girl!! we support u no matter what 😚            2.953125\n",
      "3   3                                          @user 아..            1.430664\n",
      "4   4  @user @user Pouaaaah jle chantais taleur arrêt...            2.859375\n"
     ]
    }
   ],
   "source": [
    "import os\n",
    "import pandas as pd\n",
    "\n",
    "# Define the output directory and filename\n",
    "output_dir = 'outputs'\n",
    "submission_filename = 'test_predictions.csv'\n",
    "submission_path = os.path.join(output_dir, submission_filename)\n",
    "\n",
    "# Create the output directory if it doesn't exist\n",
    "if not os.path.exists(output_dir):\n",
    "    os.makedirs(output_dir)\n",
    "    print(f\"Directory created: {output_dir}\")\n",
    "\n",
    "# Select the required columns for the submission, including 'text'\n",
    "submission_df = test_df[['id', 'text', 'predicted_intimacy']]\n",
    "\n",
    "# Save the result to a CSV file\n",
    "submission_df.to_csv(submission_path, index=False)\n",
    "\n",
    "print(f\"\\n✅ Submission file created successfully at: {submission_path}\")\n",
    "\n",
    "# --- Verification Step ---\n",
    "# Let's read the file we just created to make sure it's correct\n",
    "print(\"\\n--- Verifying the final submission file ---\")\n",
    "final_check_df = pd.read_csv(submission_path)\n",
    "print(final_check_df.head())"
   ]
  },
  {
   "cell_type": "markdown",
   "id": "c66b6b32",
   "metadata": {},
   "source": [
    "This cell saves the test DataFrame with predicted intimacy scores to a CSV file in the outputs directory, and verifies the saved file by reading and displaying its contents."
   ]
  }
 ],
 "metadata": {
  "kernelspec": {
   "display_name": "tweetintimacy",
   "language": "python",
   "name": "python3"
  },
  "language_info": {
   "codemirror_mode": {
    "name": "ipython",
    "version": 3
   },
   "file_extension": ".py",
   "mimetype": "text/x-python",
   "name": "python",
   "nbconvert_exporter": "python",
   "pygments_lexer": "ipython3",
   "version": "3.9.23"
  }
 },
 "nbformat": 4,
 "nbformat_minor": 5
}
